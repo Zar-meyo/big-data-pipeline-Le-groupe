{
 "cells": [
  {
   "cell_type": "code",
   "id": "initial_id",
   "metadata": {
    "collapsed": true,
    "ExecuteTime": {
     "end_time": "2024-11-26T10:53:01.907954Z",
     "start_time": "2024-11-26T10:53:00.132926Z"
    }
   },
   "source": [
    "import pandas as pd\n",
    "import seaborn as sns"
   ],
   "outputs": [],
   "execution_count": 19
  },
  {
   "metadata": {
    "ExecuteTime": {
     "end_time": "2024-11-26T10:40:54.552099Z",
     "start_time": "2024-11-26T10:40:54.546823Z"
    }
   },
   "cell_type": "code",
   "source": "CSV_FILE = '../app/ecommerce_data_with_trends.csv'",
   "id": "88827f6b386b0dca",
   "outputs": [],
   "execution_count": 4
  },
  {
   "metadata": {
    "ExecuteTime": {
     "end_time": "2024-11-26T10:41:03.980512Z",
     "start_time": "2024-11-26T10:40:55.278590Z"
    }
   },
   "cell_type": "code",
   "source": "df = pd.read_csv(CSV_FILE)",
   "id": "266cecfeff5d105b",
   "outputs": [],
   "execution_count": 5
  },
  {
   "metadata": {
    "ExecuteTime": {
     "end_time": "2024-11-26T10:56:15.760613Z",
     "start_time": "2024-11-26T10:56:15.739131Z"
    }
   },
   "cell_type": "code",
   "source": "df",
   "id": "d1c6f9349c99b24c",
   "outputs": [
    {
     "data": {
      "text/plain": [
       "                                 transaction_id                   timestamp  \\\n",
       "0       TX_89a20095-f7be-4bc1-bb58-a305e3fc8313  2023-10-30 03:01:46.571042   \n",
       "1       TX_a6b15a50-47b9-428c-b297-ce365acb061a  2023-10-30 03:06:07.918040   \n",
       "2       TX_abdde2cb-3752-4399-84f4-c91c098b195f  2023-10-30 03:06:28.475922   \n",
       "3       TX_ba162310-0807-4dee-818f-fa014f9880ef  2023-10-30 03:06:59.374222   \n",
       "4       TX_60ec44fd-2172-4ffa-8c67-4b399c59ed7c  2023-10-30 03:08:29.580560   \n",
       "...                                         ...                         ...   \n",
       "999995  TX_911ba8c9-524d-4045-98c5-0292af5f4a1f  2024-10-29 08:51:35.827943   \n",
       "999996  TX_df06e506-b8f9-443e-8e80-74603d8af594  2024-10-29 08:52:27.861710   \n",
       "999997  TX_7ea2aafb-fa0e-442b-829d-3364c919fb33  2024-10-29 08:53:06.375401   \n",
       "999998  TX_53befce1-9b3b-4c44-8f3d-cdce029b46e0  2024-10-29 08:53:22.705214   \n",
       "999999  TX_db410f38-e49b-4773-9db0-e01d92944e07  2024-10-29 08:55:04.980340   \n",
       "\n",
       "        customer_id   customer_name               city customer_type  \\\n",
       "0              6933      David Hays        New Sabrina           B2C   \n",
       "1              9328   Adam Oconnell  East Katherineton           B2C   \n",
       "2              6766     Jerry Brown           Lukefort           B2B   \n",
       "3              9111  Craig Martinez      South Leonard           B2B   \n",
       "4              1763      David Wood        Jacksonstad           B2B   \n",
       "...             ...             ...                ...           ...   \n",
       "999995         4262       Kirk Leon         Marthaberg           B2C   \n",
       "999996         1908    Cory Delgado      South Vanessa           B2C   \n",
       "999997         6303     Karen Brown      South Michael           B2B   \n",
       "999998          379    Erika Foster        Zacharybury           B2C   \n",
       "999999          276    Stacie Costa    North Lauraland           B2C   \n",
       "\n",
       "                         product_name                                category  \\\n",
       "0                Furniture Product_10              Home & Kitchen > Furniture   \n",
       "1              Non-Fiction Product_15                     Books > Non-Fiction   \n",
       "2                   Bedding Product_1                Home & Kitchen > Bedding   \n",
       "3                    Shoes Product_11                         Fashion > Shoes   \n",
       "4               Supplements Product_5    Health & Personal Care > Supplements   \n",
       "...                               ...                                     ...   \n",
       "999995         Non-Fiction Product_19                     Books > Non-Fiction   \n",
       "999996  Kitchen Appliances Product_14     Home & Kitchen > Kitchen Appliances   \n",
       "999997        Personal Care Product_6  Health & Personal Care > Personal Care   \n",
       "999998         Accessories Product_15                   Fashion > Accessories   \n",
       "999999                Audio Product_9                     Electronics > Audio   \n",
       "\n",
       "         price  quantity  total_amount  \n",
       "0       246.08         4        984.32  \n",
       "1       792.30         4       3169.20  \n",
       "2       685.73        40      27429.20  \n",
       "3       404.96        96      38876.16  \n",
       "4       927.67        35      32468.45  \n",
       "...        ...       ...           ...  \n",
       "999995  566.85         1        566.85  \n",
       "999996   17.58         2         35.16  \n",
       "999997  663.10        33      21882.30  \n",
       "999998  900.80         5       4504.00  \n",
       "999999  487.69         1        487.69  \n",
       "\n",
       "[1000000 rows x 11 columns]"
      ],
      "text/html": [
       "<div>\n",
       "<style scoped>\n",
       "    .dataframe tbody tr th:only-of-type {\n",
       "        vertical-align: middle;\n",
       "    }\n",
       "\n",
       "    .dataframe tbody tr th {\n",
       "        vertical-align: top;\n",
       "    }\n",
       "\n",
       "    .dataframe thead th {\n",
       "        text-align: right;\n",
       "    }\n",
       "</style>\n",
       "<table border=\"1\" class=\"dataframe\">\n",
       "  <thead>\n",
       "    <tr style=\"text-align: right;\">\n",
       "      <th></th>\n",
       "      <th>transaction_id</th>\n",
       "      <th>timestamp</th>\n",
       "      <th>customer_id</th>\n",
       "      <th>customer_name</th>\n",
       "      <th>city</th>\n",
       "      <th>customer_type</th>\n",
       "      <th>product_name</th>\n",
       "      <th>category</th>\n",
       "      <th>price</th>\n",
       "      <th>quantity</th>\n",
       "      <th>total_amount</th>\n",
       "    </tr>\n",
       "  </thead>\n",
       "  <tbody>\n",
       "    <tr>\n",
       "      <th>0</th>\n",
       "      <td>TX_89a20095-f7be-4bc1-bb58-a305e3fc8313</td>\n",
       "      <td>2023-10-30 03:01:46.571042</td>\n",
       "      <td>6933</td>\n",
       "      <td>David Hays</td>\n",
       "      <td>New Sabrina</td>\n",
       "      <td>B2C</td>\n",
       "      <td>Furniture Product_10</td>\n",
       "      <td>Home &amp; Kitchen &gt; Furniture</td>\n",
       "      <td>246.08</td>\n",
       "      <td>4</td>\n",
       "      <td>984.32</td>\n",
       "    </tr>\n",
       "    <tr>\n",
       "      <th>1</th>\n",
       "      <td>TX_a6b15a50-47b9-428c-b297-ce365acb061a</td>\n",
       "      <td>2023-10-30 03:06:07.918040</td>\n",
       "      <td>9328</td>\n",
       "      <td>Adam Oconnell</td>\n",
       "      <td>East Katherineton</td>\n",
       "      <td>B2C</td>\n",
       "      <td>Non-Fiction Product_15</td>\n",
       "      <td>Books &gt; Non-Fiction</td>\n",
       "      <td>792.30</td>\n",
       "      <td>4</td>\n",
       "      <td>3169.20</td>\n",
       "    </tr>\n",
       "    <tr>\n",
       "      <th>2</th>\n",
       "      <td>TX_abdde2cb-3752-4399-84f4-c91c098b195f</td>\n",
       "      <td>2023-10-30 03:06:28.475922</td>\n",
       "      <td>6766</td>\n",
       "      <td>Jerry Brown</td>\n",
       "      <td>Lukefort</td>\n",
       "      <td>B2B</td>\n",
       "      <td>Bedding Product_1</td>\n",
       "      <td>Home &amp; Kitchen &gt; Bedding</td>\n",
       "      <td>685.73</td>\n",
       "      <td>40</td>\n",
       "      <td>27429.20</td>\n",
       "    </tr>\n",
       "    <tr>\n",
       "      <th>3</th>\n",
       "      <td>TX_ba162310-0807-4dee-818f-fa014f9880ef</td>\n",
       "      <td>2023-10-30 03:06:59.374222</td>\n",
       "      <td>9111</td>\n",
       "      <td>Craig Martinez</td>\n",
       "      <td>South Leonard</td>\n",
       "      <td>B2B</td>\n",
       "      <td>Shoes Product_11</td>\n",
       "      <td>Fashion &gt; Shoes</td>\n",
       "      <td>404.96</td>\n",
       "      <td>96</td>\n",
       "      <td>38876.16</td>\n",
       "    </tr>\n",
       "    <tr>\n",
       "      <th>4</th>\n",
       "      <td>TX_60ec44fd-2172-4ffa-8c67-4b399c59ed7c</td>\n",
       "      <td>2023-10-30 03:08:29.580560</td>\n",
       "      <td>1763</td>\n",
       "      <td>David Wood</td>\n",
       "      <td>Jacksonstad</td>\n",
       "      <td>B2B</td>\n",
       "      <td>Supplements Product_5</td>\n",
       "      <td>Health &amp; Personal Care &gt; Supplements</td>\n",
       "      <td>927.67</td>\n",
       "      <td>35</td>\n",
       "      <td>32468.45</td>\n",
       "    </tr>\n",
       "    <tr>\n",
       "      <th>...</th>\n",
       "      <td>...</td>\n",
       "      <td>...</td>\n",
       "      <td>...</td>\n",
       "      <td>...</td>\n",
       "      <td>...</td>\n",
       "      <td>...</td>\n",
       "      <td>...</td>\n",
       "      <td>...</td>\n",
       "      <td>...</td>\n",
       "      <td>...</td>\n",
       "      <td>...</td>\n",
       "    </tr>\n",
       "    <tr>\n",
       "      <th>999995</th>\n",
       "      <td>TX_911ba8c9-524d-4045-98c5-0292af5f4a1f</td>\n",
       "      <td>2024-10-29 08:51:35.827943</td>\n",
       "      <td>4262</td>\n",
       "      <td>Kirk Leon</td>\n",
       "      <td>Marthaberg</td>\n",
       "      <td>B2C</td>\n",
       "      <td>Non-Fiction Product_19</td>\n",
       "      <td>Books &gt; Non-Fiction</td>\n",
       "      <td>566.85</td>\n",
       "      <td>1</td>\n",
       "      <td>566.85</td>\n",
       "    </tr>\n",
       "    <tr>\n",
       "      <th>999996</th>\n",
       "      <td>TX_df06e506-b8f9-443e-8e80-74603d8af594</td>\n",
       "      <td>2024-10-29 08:52:27.861710</td>\n",
       "      <td>1908</td>\n",
       "      <td>Cory Delgado</td>\n",
       "      <td>South Vanessa</td>\n",
       "      <td>B2C</td>\n",
       "      <td>Kitchen Appliances Product_14</td>\n",
       "      <td>Home &amp; Kitchen &gt; Kitchen Appliances</td>\n",
       "      <td>17.58</td>\n",
       "      <td>2</td>\n",
       "      <td>35.16</td>\n",
       "    </tr>\n",
       "    <tr>\n",
       "      <th>999997</th>\n",
       "      <td>TX_7ea2aafb-fa0e-442b-829d-3364c919fb33</td>\n",
       "      <td>2024-10-29 08:53:06.375401</td>\n",
       "      <td>6303</td>\n",
       "      <td>Karen Brown</td>\n",
       "      <td>South Michael</td>\n",
       "      <td>B2B</td>\n",
       "      <td>Personal Care Product_6</td>\n",
       "      <td>Health &amp; Personal Care &gt; Personal Care</td>\n",
       "      <td>663.10</td>\n",
       "      <td>33</td>\n",
       "      <td>21882.30</td>\n",
       "    </tr>\n",
       "    <tr>\n",
       "      <th>999998</th>\n",
       "      <td>TX_53befce1-9b3b-4c44-8f3d-cdce029b46e0</td>\n",
       "      <td>2024-10-29 08:53:22.705214</td>\n",
       "      <td>379</td>\n",
       "      <td>Erika Foster</td>\n",
       "      <td>Zacharybury</td>\n",
       "      <td>B2C</td>\n",
       "      <td>Accessories Product_15</td>\n",
       "      <td>Fashion &gt; Accessories</td>\n",
       "      <td>900.80</td>\n",
       "      <td>5</td>\n",
       "      <td>4504.00</td>\n",
       "    </tr>\n",
       "    <tr>\n",
       "      <th>999999</th>\n",
       "      <td>TX_db410f38-e49b-4773-9db0-e01d92944e07</td>\n",
       "      <td>2024-10-29 08:55:04.980340</td>\n",
       "      <td>276</td>\n",
       "      <td>Stacie Costa</td>\n",
       "      <td>North Lauraland</td>\n",
       "      <td>B2C</td>\n",
       "      <td>Audio Product_9</td>\n",
       "      <td>Electronics &gt; Audio</td>\n",
       "      <td>487.69</td>\n",
       "      <td>1</td>\n",
       "      <td>487.69</td>\n",
       "    </tr>\n",
       "  </tbody>\n",
       "</table>\n",
       "<p>1000000 rows × 11 columns</p>\n",
       "</div>"
      ]
     },
     "execution_count": 22,
     "metadata": {},
     "output_type": "execute_result"
    }
   ],
   "execution_count": 22
  },
  {
   "metadata": {
    "ExecuteTime": {
     "end_time": "2024-11-26T10:42:21.316817Z",
     "start_time": "2024-11-26T10:42:21.305087Z"
    }
   },
   "cell_type": "code",
   "source": "df.dtypes",
   "id": "c8c59b89b1ad6e52",
   "outputs": [
    {
     "data": {
      "text/plain": [
       "transaction_id     object\n",
       "timestamp          object\n",
       "customer_id         int64\n",
       "customer_name      object\n",
       "city               object\n",
       "customer_type      object\n",
       "product_name       object\n",
       "category           object\n",
       "price             float64\n",
       "quantity            int64\n",
       "total_amount      float64\n",
       "dtype: object"
      ]
     },
     "execution_count": 7,
     "metadata": {},
     "output_type": "execute_result"
    }
   ],
   "execution_count": 7
  },
  {
   "metadata": {
    "ExecuteTime": {
     "end_time": "2024-11-26T10:59:58.504775Z",
     "start_time": "2024-11-26T10:59:58.465135Z"
    }
   },
   "cell_type": "code",
   "source": [
    "numerical_cols = [\"price\", \"total_amount\", \"quantity\"]\n",
    "\n",
    "mean = df[[\"price\", \"total_amount\", \"quantity\"]].mean(numeric_only=True)\n",
    "count = df.groupby(\"customer_id\").count(numeric_only=True)"
   ],
   "id": "b92d98ef1e3e02a0",
   "outputs": [
    {
     "ename": "TypeError",
     "evalue": "GroupBy.count() got an unexpected keyword argument 'numeric_only'",
     "output_type": "error",
     "traceback": [
      "\u001B[0;31m---------------------------------------------------------------------------\u001B[0m",
      "\u001B[0;31mTypeError\u001B[0m                                 Traceback (most recent call last)",
      "Cell \u001B[0;32mIn[30], line 4\u001B[0m\n\u001B[1;32m      1\u001B[0m numerical_cols \u001B[38;5;241m=\u001B[39m [\u001B[38;5;124m\"\u001B[39m\u001B[38;5;124mprice\u001B[39m\u001B[38;5;124m\"\u001B[39m, \u001B[38;5;124m\"\u001B[39m\u001B[38;5;124mtotal_amount\u001B[39m\u001B[38;5;124m\"\u001B[39m, \u001B[38;5;124m\"\u001B[39m\u001B[38;5;124mquantity\u001B[39m\u001B[38;5;124m\"\u001B[39m]\n\u001B[1;32m      3\u001B[0m mean \u001B[38;5;241m=\u001B[39m df[[\u001B[38;5;124m\"\u001B[39m\u001B[38;5;124mprice\u001B[39m\u001B[38;5;124m\"\u001B[39m, \u001B[38;5;124m\"\u001B[39m\u001B[38;5;124mtotal_amount\u001B[39m\u001B[38;5;124m\"\u001B[39m, \u001B[38;5;124m\"\u001B[39m\u001B[38;5;124mquantity\u001B[39m\u001B[38;5;124m\"\u001B[39m]]\u001B[38;5;241m.\u001B[39mmean(numeric_only\u001B[38;5;241m=\u001B[39m\u001B[38;5;28;01mTrue\u001B[39;00m)\n\u001B[0;32m----> 4\u001B[0m count \u001B[38;5;241m=\u001B[39m \u001B[43mdf\u001B[49m\u001B[38;5;241;43m.\u001B[39;49m\u001B[43mgroupby\u001B[49m\u001B[43m(\u001B[49m\u001B[38;5;124;43m\"\u001B[39;49m\u001B[38;5;124;43mcustomer_id\u001B[39;49m\u001B[38;5;124;43m\"\u001B[39;49m\u001B[43m)\u001B[49m\u001B[38;5;241;43m.\u001B[39;49m\u001B[43mcount\u001B[49m\u001B[43m(\u001B[49m\u001B[43mnumeric_only\u001B[49m\u001B[38;5;241;43m=\u001B[39;49m\u001B[38;5;28;43;01mTrue\u001B[39;49;00m\u001B[43m)\u001B[49m\n",
      "\u001B[0;31mTypeError\u001B[0m: GroupBy.count() got an unexpected keyword argument 'numeric_only'"
     ]
    }
   ],
   "execution_count": 30
  },
  {
   "metadata": {
    "ExecuteTime": {
     "end_time": "2024-11-26T10:59:33.307044Z",
     "start_time": "2024-11-26T10:59:33.297171Z"
    }
   },
   "cell_type": "code",
   "source": "count",
   "id": "9607e79317dded8f",
   "outputs": [
    {
     "data": {
      "text/plain": [
       "customer_id     1000000\n",
       "price           1000000\n",
       "quantity        1000000\n",
       "total_amount    1000000\n",
       "dtype: int64"
      ]
     },
     "execution_count": 29,
     "metadata": {},
     "output_type": "execute_result"
    }
   ],
   "execution_count": 29
  },
  {
   "metadata": {},
   "cell_type": "code",
   "outputs": [],
   "execution_count": null,
   "source": "",
   "id": "b93585719b16a10f"
  }
 ],
 "metadata": {
  "kernelspec": {
   "display_name": "Python 3",
   "language": "python",
   "name": "python3"
  },
  "language_info": {
   "codemirror_mode": {
    "name": "ipython",
    "version": 2
   },
   "file_extension": ".py",
   "mimetype": "text/x-python",
   "name": "python",
   "nbconvert_exporter": "python",
   "pygments_lexer": "ipython2",
   "version": "2.7.6"
  }
 },
 "nbformat": 4,
 "nbformat_minor": 5
}
